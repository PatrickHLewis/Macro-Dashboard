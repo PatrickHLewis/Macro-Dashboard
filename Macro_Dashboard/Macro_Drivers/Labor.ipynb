{
 "cells": [
  {
   "cell_type": "code",
   "execution_count": null,
   "metadata": {},
   "outputs": [],
   "source": [
    "'OPHNFB', 'OPHMFG', 'OPHPBS', 'HOANBS', 'OUTNFB', 'LFWA64TTUSM647S', 'EMRATIO'"
   ]
  }
 ],
 "metadata": {
  "language_info": {
   "name": "python"
  }
 },
 "nbformat": 4,
 "nbformat_minor": 2
}
