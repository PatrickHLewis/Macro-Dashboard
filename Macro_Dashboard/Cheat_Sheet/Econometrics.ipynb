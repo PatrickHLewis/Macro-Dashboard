{
 "cells": [
  {
   "cell_type": "markdown",
   "metadata": {},
   "source": [
    "Econometric Cheat Sheet:\n",
    "\n",
    " - Data Testing\n",
    "    - Stationarity\n",
    "    - Seasonality\n",
    "    - Autocorrelation\n",
    "\n",
    " - Data Preprocessing\n",
    "    - Cleaning\n",
    "    - Split\n",
    "\n",
    " - Model Selection\n",
    "    - Uni vs Multivariate\n",
    "    - AR, MA, VAR, GARCH\n",
    "\n",
    " - Parameter estimation\n",
    "    - auto_arima\n",
    "    - Estimation of m if seasonal\n"
   ]
  },
  {
   "cell_type": "markdown",
   "metadata": {},
   "source": []
  }
 ],
 "metadata": {
  "language_info": {
   "name": "python"
  }
 },
 "nbformat": 4,
 "nbformat_minor": 2
}
